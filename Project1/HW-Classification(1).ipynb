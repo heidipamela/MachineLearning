{
 "cells": [
  {
   "cell_type": "code",
   "execution_count": 1,
   "id": "99b2fb08",
   "metadata": {},
   "outputs": [],
   "source": [
    "#First we import our libraries\n",
    "\n",
    "import pandas as pd\n"
   ]
  },
  {
   "cell_type": "code",
   "execution_count": 2,
   "id": "a3c286a2",
   "metadata": {},
   "outputs": [],
   "source": [
    "df = pd.read_csv(r\"C:\\Users\\heidi\\OneDrive\\Bureau\\Personal\\DOCS\\shopping_behavior_updated.csv\")"
   ]
  },
  {
   "cell_type": "code",
   "execution_count": 3,
   "id": "04c5780d",
   "metadata": {
    "collapsed": true
   },
   "outputs": [
    {
     "data": {
      "text/html": [
       "<div>\n",
       "<style scoped>\n",
       "    .dataframe tbody tr th:only-of-type {\n",
       "        vertical-align: middle;\n",
       "    }\n",
       "\n",
       "    .dataframe tbody tr th {\n",
       "        vertical-align: top;\n",
       "    }\n",
       "\n",
       "    .dataframe thead th {\n",
       "        text-align: right;\n",
       "    }\n",
       "</style>\n",
       "<table border=\"1\" class=\"dataframe\">\n",
       "  <thead>\n",
       "    <tr style=\"text-align: right;\">\n",
       "      <th></th>\n",
       "      <th>Customer ID</th>\n",
       "      <th>Age</th>\n",
       "      <th>Gender</th>\n",
       "      <th>Item Purchased</th>\n",
       "      <th>Category</th>\n",
       "      <th>Purchase Amount (USD)</th>\n",
       "      <th>Location</th>\n",
       "      <th>Size</th>\n",
       "      <th>Color</th>\n",
       "      <th>Season</th>\n",
       "      <th>Review Rating</th>\n",
       "      <th>Subscription Status</th>\n",
       "      <th>Shipping Type</th>\n",
       "      <th>Discount Applied</th>\n",
       "      <th>Promo Code Used</th>\n",
       "      <th>Previous Purchases</th>\n",
       "      <th>Payment Method</th>\n",
       "      <th>Frequency of Purchases</th>\n",
       "    </tr>\n",
       "  </thead>\n",
       "  <tbody>\n",
       "    <tr>\n",
       "      <th>0</th>\n",
       "      <td>1</td>\n",
       "      <td>55</td>\n",
       "      <td>Male</td>\n",
       "      <td>Blouse</td>\n",
       "      <td>Clothing</td>\n",
       "      <td>53</td>\n",
       "      <td>Kentucky</td>\n",
       "      <td>L</td>\n",
       "      <td>Gray</td>\n",
       "      <td>Winter</td>\n",
       "      <td>3.1</td>\n",
       "      <td>Yes</td>\n",
       "      <td>Express</td>\n",
       "      <td>Yes</td>\n",
       "      <td>Yes</td>\n",
       "      <td>14</td>\n",
       "      <td>Venmo</td>\n",
       "      <td>Fortnightly</td>\n",
       "    </tr>\n",
       "    <tr>\n",
       "      <th>1</th>\n",
       "      <td>2</td>\n",
       "      <td>19</td>\n",
       "      <td>Male</td>\n",
       "      <td>Sweater</td>\n",
       "      <td>Clothing</td>\n",
       "      <td>64</td>\n",
       "      <td>Maine</td>\n",
       "      <td>L</td>\n",
       "      <td>Maroon</td>\n",
       "      <td>Winter</td>\n",
       "      <td>3.1</td>\n",
       "      <td>Yes</td>\n",
       "      <td>Express</td>\n",
       "      <td>Yes</td>\n",
       "      <td>Yes</td>\n",
       "      <td>2</td>\n",
       "      <td>Cash</td>\n",
       "      <td>Fortnightly</td>\n",
       "    </tr>\n",
       "    <tr>\n",
       "      <th>2</th>\n",
       "      <td>3</td>\n",
       "      <td>50</td>\n",
       "      <td>Male</td>\n",
       "      <td>Jeans</td>\n",
       "      <td>Clothing</td>\n",
       "      <td>73</td>\n",
       "      <td>Massachusetts</td>\n",
       "      <td>S</td>\n",
       "      <td>Maroon</td>\n",
       "      <td>Spring</td>\n",
       "      <td>3.1</td>\n",
       "      <td>Yes</td>\n",
       "      <td>Free Shipping</td>\n",
       "      <td>Yes</td>\n",
       "      <td>Yes</td>\n",
       "      <td>23</td>\n",
       "      <td>Credit Card</td>\n",
       "      <td>Weekly</td>\n",
       "    </tr>\n",
       "    <tr>\n",
       "      <th>3</th>\n",
       "      <td>4</td>\n",
       "      <td>21</td>\n",
       "      <td>Male</td>\n",
       "      <td>Sandals</td>\n",
       "      <td>Footwear</td>\n",
       "      <td>90</td>\n",
       "      <td>Rhode Island</td>\n",
       "      <td>M</td>\n",
       "      <td>Maroon</td>\n",
       "      <td>Spring</td>\n",
       "      <td>3.5</td>\n",
       "      <td>Yes</td>\n",
       "      <td>Next Day Air</td>\n",
       "      <td>Yes</td>\n",
       "      <td>Yes</td>\n",
       "      <td>49</td>\n",
       "      <td>PayPal</td>\n",
       "      <td>Weekly</td>\n",
       "    </tr>\n",
       "    <tr>\n",
       "      <th>4</th>\n",
       "      <td>5</td>\n",
       "      <td>45</td>\n",
       "      <td>Male</td>\n",
       "      <td>Blouse</td>\n",
       "      <td>Clothing</td>\n",
       "      <td>49</td>\n",
       "      <td>Oregon</td>\n",
       "      <td>M</td>\n",
       "      <td>Turquoise</td>\n",
       "      <td>Spring</td>\n",
       "      <td>2.7</td>\n",
       "      <td>Yes</td>\n",
       "      <td>Free Shipping</td>\n",
       "      <td>Yes</td>\n",
       "      <td>Yes</td>\n",
       "      <td>31</td>\n",
       "      <td>PayPal</td>\n",
       "      <td>Annually</td>\n",
       "    </tr>\n",
       "  </tbody>\n",
       "</table>\n",
       "</div>"
      ],
      "text/plain": [
       "   Customer ID  Age Gender Item Purchased  Category  Purchase Amount (USD)  \\\n",
       "0            1   55   Male         Blouse  Clothing                     53   \n",
       "1            2   19   Male        Sweater  Clothing                     64   \n",
       "2            3   50   Male          Jeans  Clothing                     73   \n",
       "3            4   21   Male        Sandals  Footwear                     90   \n",
       "4            5   45   Male         Blouse  Clothing                     49   \n",
       "\n",
       "        Location Size      Color  Season  Review Rating Subscription Status  \\\n",
       "0       Kentucky    L       Gray  Winter            3.1                 Yes   \n",
       "1          Maine    L     Maroon  Winter            3.1                 Yes   \n",
       "2  Massachusetts    S     Maroon  Spring            3.1                 Yes   \n",
       "3   Rhode Island    M     Maroon  Spring            3.5                 Yes   \n",
       "4         Oregon    M  Turquoise  Spring            2.7                 Yes   \n",
       "\n",
       "   Shipping Type Discount Applied Promo Code Used  Previous Purchases  \\\n",
       "0        Express              Yes             Yes                  14   \n",
       "1        Express              Yes             Yes                   2   \n",
       "2  Free Shipping              Yes             Yes                  23   \n",
       "3   Next Day Air              Yes             Yes                  49   \n",
       "4  Free Shipping              Yes             Yes                  31   \n",
       "\n",
       "  Payment Method Frequency of Purchases  \n",
       "0          Venmo            Fortnightly  \n",
       "1           Cash            Fortnightly  \n",
       "2    Credit Card                 Weekly  \n",
       "3         PayPal                 Weekly  \n",
       "4         PayPal               Annually  "
      ]
     },
     "execution_count": 3,
     "metadata": {},
     "output_type": "execute_result"
    }
   ],
   "source": [
    "df.head()"
   ]
  },
  {
   "cell_type": "code",
   "execution_count": null,
   "id": "4df90673",
   "metadata": {},
   "outputs": [],
   "source": [
    "#This dataset shows the sales from a store and the details of the buyer as well as the purchase are detailed.\n",
    "#We have age, gender, size, as well as the detail of the purchased item, color, season, item, amount purchased. \n",
    "#In the same dataset we have details such as if any discount was applied or if the customer has a subscription or not.\n"
   ]
  },
  {
   "cell_type": "code",
   "execution_count": 4,
   "id": "bbda82d4",
   "metadata": {},
   "outputs": [
    {
     "name": "stdout",
     "output_type": "stream",
     "text": [
      "['Kentucky' 'Maine' 'Massachusetts' 'Rhode Island' 'Oregon' 'Wyoming'\n",
      " 'Montana' 'Louisiana' 'West Virginia' 'Missouri' 'Arkansas' 'Hawaii'\n",
      " 'Delaware' 'New Hampshire' 'New York' 'Alabama' 'Mississippi'\n",
      " 'North Carolina' 'California' 'Oklahoma' 'Florida' 'Texas' 'Nevada'\n",
      " 'Kansas' 'Colorado' 'North Dakota' 'Illinois' 'Indiana' 'Arizona'\n",
      " 'Alaska' 'Tennessee' 'Ohio' 'New Jersey' 'Maryland' 'Vermont'\n",
      " 'New Mexico' 'South Carolina' 'Idaho' 'Pennsylvania' 'Connecticut' 'Utah'\n",
      " 'Virginia' 'Georgia' 'Nebraska' 'Iowa' 'South Dakota' 'Minnesota'\n",
      " 'Washington' 'Wisconsin' 'Michigan']\n"
     ]
    }
   ],
   "source": [
    "#I printed all the values of the Column location in order to then be able to convert these values to numerical.\n",
    "unique_locations = df['Location'].unique()\n",
    "print(unique_locations)"
   ]
  },
  {
   "cell_type": "code",
   "execution_count": 5,
   "id": "8b622bf0",
   "metadata": {},
   "outputs": [
    {
     "name": "stdout",
     "output_type": "stream",
     "text": [
      "['Blouse' 'Sweater' 'Jeans' 'Sandals' 'Sneakers' 'Shirt' 'Shorts' 'Coat'\n",
      " 'Handbag' 'Shoes' 'Dress' 'Skirt' 'Sunglasses' 'Pants' 'Jacket' 'Hoodie'\n",
      " 'Jewelry' 'T-shirt' 'Scarf' 'Hat' 'Socks' 'Backpack' 'Belt' 'Boots'\n",
      " 'Gloves']\n"
     ]
    }
   ],
   "source": [
    "#Doing the same with the Column Item Purchased\n",
    "unique_Item_Purchased = df.loc[:,'Item Purchased'].unique()\n",
    "print(unique_Item_Purchased)"
   ]
  },
  {
   "cell_type": "code",
   "execution_count": 6,
   "id": "e3f84430",
   "metadata": {},
   "outputs": [],
   "source": [
    "#We import the method LabelEncoder to automatically convert the specified values into numerical \n",
    "from sklearn.preprocessing import LabelEncoder"
   ]
  },
  {
   "cell_type": "code",
   "execution_count": 7,
   "id": "6ea18029",
   "metadata": {
    "collapsed": true
   },
   "outputs": [
    {
     "name": "stdout",
     "output_type": "stream",
     "text": [
      "          Location  Location_Encoded\n",
      "0         Kentucky                16\n",
      "1            Maine                18\n",
      "2    Massachusetts                20\n",
      "3     Rhode Island                38\n",
      "4           Oregon                36\n",
      "5          Wyoming                49\n",
      "6          Montana                25\n",
      "7        Louisiana                17\n",
      "8    West Virginia                47\n",
      "9         Missouri                24\n",
      "10        Arkansas                 3\n",
      "11          Hawaii                10\n",
      "12        Delaware                 7\n",
      "13   New Hampshire                28\n",
      "14        New York                31\n",
      "15         Alabama                 0\n",
      "16     Mississippi                23\n",
      "17  North Carolina                32\n",
      "18      California                 4\n",
      "19        Oklahoma                35\n",
      "20         Florida                 8\n",
      "21           Texas                42\n",
      "22          Nevada                27\n",
      "23          Kansas                15\n",
      "24        Colorado                 5\n",
      "25    North Dakota                33\n",
      "26        Illinois                12\n",
      "27         Indiana                13\n",
      "28         Arizona                 2\n",
      "29          Alaska                 1\n",
      "30       Tennessee                41\n",
      "31            Ohio                34\n",
      "32      New Jersey                29\n",
      "33        Maryland                19\n",
      "34         Vermont                44\n",
      "35      New Mexico                30\n",
      "36  South Carolina                39\n",
      "37           Idaho                11\n",
      "38    Pennsylvania                37\n",
      "39     Connecticut                 6\n",
      "40            Utah                43\n",
      "41        Virginia                45\n",
      "42         Georgia                 9\n",
      "43        Nebraska                26\n",
      "44            Iowa                14\n",
      "45    South Dakota                40\n",
      "46       Minnesota                22\n",
      "47      Washington                46\n",
      "48       Wisconsin                48\n",
      "49        Michigan                21\n"
     ]
    }
   ],
   "source": [
    "data = {'Location': ['Kentucky', 'Maine', 'Massachusetts', 'Rhode Island', 'Oregon','Wyoming',\n",
    " 'Montana', 'Louisiana', 'West Virginia', 'Missouri', 'Arkansas', 'Hawaii',\n",
    " 'Delaware', 'New Hampshire', 'New York', 'Alabama', 'Mississippi',\n",
    " 'North Carolina', 'California', 'Oklahoma', 'Florida', 'Texas', 'Nevada',\n",
    " 'Kansas', 'Colorado', 'North Dakota', 'Illinois', 'Indiana', 'Arizona',\n",
    " 'Alaska', 'Tennessee', 'Ohio', 'New Jersey', 'Maryland', 'Vermont',\n",
    " 'New Mexico', 'South Carolina', 'Idaho', 'Pennsylvania', 'Connecticut', 'Utah',\n",
    " 'Virginia', 'Georgia', 'Nebraska', 'Iowa', 'South Dakota', 'Minnesota',\n",
    " 'Washington', 'Wisconsin', 'Michigan']} \n",
    "\n",
    "# Create DataFrame\n",
    "df1 = pd.DataFrame(data)\n",
    "\n",
    "# Initialize the LabelEncoder\n",
    "label_encoder = LabelEncoder()\n",
    "\n",
    "# Apply the LabelEncoder to the 'Location' column\n",
    "df1['Location_Encoded'] = label_encoder.fit_transform(df1['Location'])\n",
    "\n",
    "print(df1)"
   ]
  },
  {
   "cell_type": "code",
   "execution_count": 8,
   "id": "c381ba2c",
   "metadata": {
    "collapsed": true
   },
   "outputs": [
    {
     "name": "stdout",
     "output_type": "stream",
     "text": [
      "      Customer ID  Age  Gender Item Purchased     Category  \\\n",
      "0               1   55    Male         Blouse     Clothing   \n",
      "1               2   19    Male        Sweater     Clothing   \n",
      "2               3   50    Male          Jeans     Clothing   \n",
      "3               4   21    Male        Sandals     Footwear   \n",
      "4               5   45    Male         Blouse     Clothing   \n",
      "...           ...  ...     ...            ...          ...   \n",
      "3895         3896   40  Female         Hoodie     Clothing   \n",
      "3896         3897   52  Female       Backpack  Accessories   \n",
      "3897         3898   46  Female           Belt  Accessories   \n",
      "3898         3899   44  Female          Shoes     Footwear   \n",
      "3899         3900   52  Female        Handbag  Accessories   \n",
      "\n",
      "      Purchase Amount (USD)  Location Size      Color  Season  Review Rating  \\\n",
      "0                        53        16    L       Gray  Winter            3.1   \n",
      "1                        64        18    L     Maroon  Winter            3.1   \n",
      "2                        73        20    S     Maroon  Spring            3.1   \n",
      "3                        90        38    M     Maroon  Spring            3.5   \n",
      "4                        49        36    M  Turquoise  Spring            2.7   \n",
      "...                     ...       ...  ...        ...     ...            ...   \n",
      "3895                     28        45    L  Turquoise  Summer            4.2   \n",
      "3896                     49        14    L      White  Spring            4.5   \n",
      "3897                     33        29    L      Green  Spring            2.9   \n",
      "3898                     77        22    S      Brown  Summer            3.8   \n",
      "3899                     81         4    M      Beige  Spring            3.1   \n",
      "\n",
      "     Subscription Status   Shipping Type Discount Applied Promo Code Used  \\\n",
      "0                    Yes         Express              Yes             Yes   \n",
      "1                    Yes         Express              Yes             Yes   \n",
      "2                    Yes   Free Shipping              Yes             Yes   \n",
      "3                    Yes    Next Day Air              Yes             Yes   \n",
      "4                    Yes   Free Shipping              Yes             Yes   \n",
      "...                  ...             ...              ...             ...   \n",
      "3895                  No  2-Day Shipping               No              No   \n",
      "3896                  No    Store Pickup               No              No   \n",
      "3897                  No        Standard               No              No   \n",
      "3898                  No         Express               No              No   \n",
      "3899                  No    Store Pickup               No              No   \n",
      "\n",
      "      Previous Purchases Payment Method Frequency of Purchases  \n",
      "0                     14          Venmo            Fortnightly  \n",
      "1                      2           Cash            Fortnightly  \n",
      "2                     23    Credit Card                 Weekly  \n",
      "3                     49         PayPal                 Weekly  \n",
      "4                     31         PayPal               Annually  \n",
      "...                  ...            ...                    ...  \n",
      "3895                  32          Venmo                 Weekly  \n",
      "3896                  41  Bank Transfer              Bi-Weekly  \n",
      "3897                  24          Venmo              Quarterly  \n",
      "3898                  24          Venmo                 Weekly  \n",
      "3899                  33          Venmo              Quarterly  \n",
      "\n",
      "[3900 rows x 18 columns]\n"
     ]
    }
   ],
   "source": [
    "#We zip the columns and procede to apply the mappings\n",
    "Location_Encoded_mapping = dict(zip(df1['Location'], df1['Location_Encoded']))\n",
    "\n",
    "df['Location'] = df['Location'].map(Location_Encoded_mapping)\n",
    "print(df)\n"
   ]
  },
  {
   "cell_type": "code",
   "execution_count": 9,
   "id": "54d7039e",
   "metadata": {
    "collapsed": true
   },
   "outputs": [
    {
     "name": "stdout",
     "output_type": "stream",
     "text": [
      "   Item Purchased  Item_Purchased_encoded\n",
      "0          Blouse                       2\n",
      "1         Sweater                      23\n",
      "2           Jeans                      11\n",
      "3         Sandals                      14\n",
      "4        Sneakers                      20\n",
      "5           Shirt                      16\n",
      "6          Shorts                      18\n",
      "7            Coat                       4\n",
      "8         Handbag                       7\n",
      "9           Shoes                      17\n",
      "10          Dress                       5\n",
      "11          Skirt                      19\n",
      "12     Sunglasses                      22\n",
      "13          Pants                      13\n",
      "14         Jacket                      10\n",
      "15         Hoodie                       9\n",
      "16        Jewelry                      12\n",
      "17        T-shirt                      24\n",
      "18          Scarf                      15\n",
      "19            Hat                       8\n",
      "20          Socks                      21\n",
      "21       Backpack                       0\n",
      "22           Belt                       1\n",
      "23          Boots                       3\n",
      "24         Gloves                       6\n"
     ]
    }
   ],
   "source": [
    "#We convert the Item Purchased column and then continue to do the same with the other columns\n",
    "data1 = {\"Item Purchased\": ['Blouse', 'Sweater', 'Jeans', 'Sandals', 'Sneakers', 'Shirt', 'Shorts' ,'Coat',\n",
    " 'Handbag', 'Shoes', 'Dress', 'Skirt', 'Sunglasses', 'Pants', 'Jacket', 'Hoodie',\n",
    " 'Jewelry', 'T-shirt', 'Scarf' ,'Hat', 'Socks' ,'Backpack' ,'Belt', 'Boots',\n",
    " 'Gloves']}\n",
    "\n",
    "# Create DataFrame\n",
    "df2 = pd.DataFrame(data1)\n",
    "\n",
    "# Initialize the LabelEncoder\n",
    "label_encoder = LabelEncoder()\n",
    "\n",
    "# Apply the LabelEncoder to the 'Items purchased' column\n",
    "df2['Item_Purchased_encoded'] = label_encoder.fit_transform(df2['Item Purchased'])\n",
    "\n",
    "print(df2)"
   ]
  },
  {
   "cell_type": "code",
   "execution_count": 10,
   "id": "b35b8eef",
   "metadata": {
    "collapsed": true
   },
   "outputs": [
    {
     "name": "stdout",
     "output_type": "stream",
     "text": [
      "      Customer ID  Age  Gender  Item Purchased     Category  \\\n",
      "0               1   55    Male               2     Clothing   \n",
      "1               2   19    Male              23     Clothing   \n",
      "2               3   50    Male              11     Clothing   \n",
      "3               4   21    Male              14     Footwear   \n",
      "4               5   45    Male               2     Clothing   \n",
      "...           ...  ...     ...             ...          ...   \n",
      "3895         3896   40  Female               9     Clothing   \n",
      "3896         3897   52  Female               0  Accessories   \n",
      "3897         3898   46  Female               1  Accessories   \n",
      "3898         3899   44  Female              17     Footwear   \n",
      "3899         3900   52  Female               7  Accessories   \n",
      "\n",
      "      Purchase Amount (USD)  Location Size      Color  Season  Review Rating  \\\n",
      "0                        53        16    L       Gray  Winter            3.1   \n",
      "1                        64        18    L     Maroon  Winter            3.1   \n",
      "2                        73        20    S     Maroon  Spring            3.1   \n",
      "3                        90        38    M     Maroon  Spring            3.5   \n",
      "4                        49        36    M  Turquoise  Spring            2.7   \n",
      "...                     ...       ...  ...        ...     ...            ...   \n",
      "3895                     28        45    L  Turquoise  Summer            4.2   \n",
      "3896                     49        14    L      White  Spring            4.5   \n",
      "3897                     33        29    L      Green  Spring            2.9   \n",
      "3898                     77        22    S      Brown  Summer            3.8   \n",
      "3899                     81         4    M      Beige  Spring            3.1   \n",
      "\n",
      "     Subscription Status   Shipping Type Discount Applied Promo Code Used  \\\n",
      "0                    Yes         Express              Yes             Yes   \n",
      "1                    Yes         Express              Yes             Yes   \n",
      "2                    Yes   Free Shipping              Yes             Yes   \n",
      "3                    Yes    Next Day Air              Yes             Yes   \n",
      "4                    Yes   Free Shipping              Yes             Yes   \n",
      "...                  ...             ...              ...             ...   \n",
      "3895                  No  2-Day Shipping               No              No   \n",
      "3896                  No    Store Pickup               No              No   \n",
      "3897                  No        Standard               No              No   \n",
      "3898                  No         Express               No              No   \n",
      "3899                  No    Store Pickup               No              No   \n",
      "\n",
      "      Previous Purchases Payment Method Frequency of Purchases  \n",
      "0                     14          Venmo            Fortnightly  \n",
      "1                      2           Cash            Fortnightly  \n",
      "2                     23    Credit Card                 Weekly  \n",
      "3                     49         PayPal                 Weekly  \n",
      "4                     31         PayPal               Annually  \n",
      "...                  ...            ...                    ...  \n",
      "3895                  32          Venmo                 Weekly  \n",
      "3896                  41  Bank Transfer              Bi-Weekly  \n",
      "3897                  24          Venmo              Quarterly  \n",
      "3898                  24          Venmo                 Weekly  \n",
      "3899                  33          Venmo              Quarterly  \n",
      "\n",
      "[3900 rows x 18 columns]\n"
     ]
    }
   ],
   "source": [
    "item_purchased_mapping = dict(zip(df2['Item Purchased'], df2['Item_Purchased_encoded']))\n",
    "\n",
    "df['Item Purchased'] = df['Item Purchased'].map(item_purchased_mapping)\n",
    "print(df)"
   ]
  },
  {
   "cell_type": "code",
   "execution_count": 11,
   "id": "ec41ad47",
   "metadata": {
    "collapsed": true
   },
   "outputs": [
    {
     "name": "stdout",
     "output_type": "stream",
     "text": [
      "['Clothing' 'Footwear' 'Outerwear' 'Accessories']\n"
     ]
    }
   ],
   "source": [
    "unique_category = df['Category'].unique()\n",
    "print(unique_category)"
   ]
  },
  {
   "cell_type": "code",
   "execution_count": 12,
   "id": "b8454e29",
   "metadata": {
    "collapsed": true
   },
   "outputs": [
    {
     "name": "stdout",
     "output_type": "stream",
     "text": [
      "      Customer ID  Age  Gender  Item Purchased  Category  \\\n",
      "0               1   55       0               2       0.0   \n",
      "1               2   19       0              23       0.0   \n",
      "2               3   50       0              11       0.0   \n",
      "3               4   21       0              14       1.0   \n",
      "4               5   45       0               2       0.0   \n",
      "...           ...  ...     ...             ...       ...   \n",
      "3895         3896   40       1               9       0.0   \n",
      "3896         3897   52       1               0       3.0   \n",
      "3897         3898   46       1               1       3.0   \n",
      "3898         3899   44       1              17       1.0   \n",
      "3899         3900   52       1               7       3.0   \n",
      "\n",
      "      Purchase Amount (USD)  Location Size      Color  Season  Review Rating  \\\n",
      "0                        53        16    L       Gray  Winter            3.1   \n",
      "1                        64        18    L     Maroon  Winter            3.1   \n",
      "2                        73        20    S     Maroon  Spring            3.1   \n",
      "3                        90        38    M     Maroon  Spring            3.5   \n",
      "4                        49        36    M  Turquoise  Spring            2.7   \n",
      "...                     ...       ...  ...        ...     ...            ...   \n",
      "3895                     28        45    L  Turquoise  Summer            4.2   \n",
      "3896                     49        14    L      White  Spring            4.5   \n",
      "3897                     33        29    L      Green  Spring            2.9   \n",
      "3898                     77        22    S      Brown  Summer            3.8   \n",
      "3899                     81         4    M      Beige  Spring            3.1   \n",
      "\n",
      "     Subscription Status   Shipping Type Discount Applied Promo Code Used  \\\n",
      "0                    Yes         Express              Yes             Yes   \n",
      "1                    Yes         Express              Yes             Yes   \n",
      "2                    Yes   Free Shipping              Yes             Yes   \n",
      "3                    Yes    Next Day Air              Yes             Yes   \n",
      "4                    Yes   Free Shipping              Yes             Yes   \n",
      "...                  ...             ...              ...             ...   \n",
      "3895                  No  2-Day Shipping               No              No   \n",
      "3896                  No    Store Pickup               No              No   \n",
      "3897                  No        Standard               No              No   \n",
      "3898                  No         Express               No              No   \n",
      "3899                  No    Store Pickup               No              No   \n",
      "\n",
      "      Previous Purchases Payment Method Frequency of Purchases  \n",
      "0                     14          Venmo            Fortnightly  \n",
      "1                      2           Cash            Fortnightly  \n",
      "2                     23    Credit Card                 Weekly  \n",
      "3                     49         PayPal                 Weekly  \n",
      "4                     31         PayPal               Annually  \n",
      "...                  ...            ...                    ...  \n",
      "3895                  32          Venmo                 Weekly  \n",
      "3896                  41  Bank Transfer              Bi-Weekly  \n",
      "3897                  24          Venmo              Quarterly  \n",
      "3898                  24          Venmo                 Weekly  \n",
      "3899                  33          Venmo              Quarterly  \n",
      "\n",
      "[3900 rows x 18 columns]\n"
     ]
    }
   ],
   "source": [
    "d_Gender = {\"Male\": 0, \"Female\": 1}\n",
    "d_category = {\"Clothing\": 0, \"Footwear\": 1, \"Outwear\":2, \"Accessories\":3}\n",
    "\n",
    "df['Gender'] = df['Gender'].map(d_Gender)\n",
    "df['Category'] = df['Category'].map(d_category)\n",
    "\n",
    "print(df)"
   ]
  },
  {
   "cell_type": "code",
   "execution_count": 13,
   "id": "1a9dac6c",
   "metadata": {
    "collapsed": true
   },
   "outputs": [
    {
     "name": "stdout",
     "output_type": "stream",
     "text": [
      "Index(['Customer ID', 'Age', 'Gender', 'Item Purchased', 'Category',\n",
      "       'Purchase Amount (USD)', 'Location', 'Size', 'Color', 'Season',\n",
      "       'Review Rating', 'Subscription Status', 'Shipping Type',\n",
      "       'Discount Applied', 'Promo Code Used', 'Previous Purchases',\n",
      "       'Payment Method', 'Frequency of Purchases'],\n",
      "      dtype='object')\n"
     ]
    }
   ],
   "source": [
    "print(df.columns)"
   ]
  },
  {
   "cell_type": "code",
   "execution_count": 14,
   "id": "f3e89d6d",
   "metadata": {
    "collapsed": true
   },
   "outputs": [
    {
     "data": {
      "text/html": [
       "<div>\n",
       "<style scoped>\n",
       "    .dataframe tbody tr th:only-of-type {\n",
       "        vertical-align: middle;\n",
       "    }\n",
       "\n",
       "    .dataframe tbody tr th {\n",
       "        vertical-align: top;\n",
       "    }\n",
       "\n",
       "    .dataframe thead th {\n",
       "        text-align: right;\n",
       "    }\n",
       "</style>\n",
       "<table border=\"1\" class=\"dataframe\">\n",
       "  <thead>\n",
       "    <tr style=\"text-align: right;\">\n",
       "      <th></th>\n",
       "      <th>Customer ID</th>\n",
       "      <th>Age</th>\n",
       "      <th>Gender</th>\n",
       "      <th>Item Purchased</th>\n",
       "      <th>Category</th>\n",
       "      <th>Purchase Amount (USD)</th>\n",
       "      <th>Location</th>\n",
       "      <th>Size</th>\n",
       "      <th>Color</th>\n",
       "      <th>Season</th>\n",
       "      <th>Review Rating</th>\n",
       "      <th>Subscription Status</th>\n",
       "      <th>Shipping Type</th>\n",
       "      <th>Discount Applied</th>\n",
       "      <th>Promo Code Used</th>\n",
       "      <th>Previous Purchases</th>\n",
       "      <th>Payment Method</th>\n",
       "      <th>Frequency of Purchases</th>\n",
       "    </tr>\n",
       "  </thead>\n",
       "  <tbody>\n",
       "    <tr>\n",
       "      <th>0</th>\n",
       "      <td>1</td>\n",
       "      <td>55</td>\n",
       "      <td>0</td>\n",
       "      <td>2</td>\n",
       "      <td>0.0</td>\n",
       "      <td>53</td>\n",
       "      <td>16</td>\n",
       "      <td>L</td>\n",
       "      <td>Gray</td>\n",
       "      <td>Winter</td>\n",
       "      <td>3.1</td>\n",
       "      <td>Yes</td>\n",
       "      <td>Express</td>\n",
       "      <td>Yes</td>\n",
       "      <td>Yes</td>\n",
       "      <td>14</td>\n",
       "      <td>Venmo</td>\n",
       "      <td>Fortnightly</td>\n",
       "    </tr>\n",
       "    <tr>\n",
       "      <th>1</th>\n",
       "      <td>2</td>\n",
       "      <td>19</td>\n",
       "      <td>0</td>\n",
       "      <td>23</td>\n",
       "      <td>0.0</td>\n",
       "      <td>64</td>\n",
       "      <td>18</td>\n",
       "      <td>L</td>\n",
       "      <td>Maroon</td>\n",
       "      <td>Winter</td>\n",
       "      <td>3.1</td>\n",
       "      <td>Yes</td>\n",
       "      <td>Express</td>\n",
       "      <td>Yes</td>\n",
       "      <td>Yes</td>\n",
       "      <td>2</td>\n",
       "      <td>Cash</td>\n",
       "      <td>Fortnightly</td>\n",
       "    </tr>\n",
       "    <tr>\n",
       "      <th>2</th>\n",
       "      <td>3</td>\n",
       "      <td>50</td>\n",
       "      <td>0</td>\n",
       "      <td>11</td>\n",
       "      <td>0.0</td>\n",
       "      <td>73</td>\n",
       "      <td>20</td>\n",
       "      <td>S</td>\n",
       "      <td>Maroon</td>\n",
       "      <td>Spring</td>\n",
       "      <td>3.1</td>\n",
       "      <td>Yes</td>\n",
       "      <td>Free Shipping</td>\n",
       "      <td>Yes</td>\n",
       "      <td>Yes</td>\n",
       "      <td>23</td>\n",
       "      <td>Credit Card</td>\n",
       "      <td>Weekly</td>\n",
       "    </tr>\n",
       "    <tr>\n",
       "      <th>3</th>\n",
       "      <td>4</td>\n",
       "      <td>21</td>\n",
       "      <td>0</td>\n",
       "      <td>14</td>\n",
       "      <td>1.0</td>\n",
       "      <td>90</td>\n",
       "      <td>38</td>\n",
       "      <td>M</td>\n",
       "      <td>Maroon</td>\n",
       "      <td>Spring</td>\n",
       "      <td>3.5</td>\n",
       "      <td>Yes</td>\n",
       "      <td>Next Day Air</td>\n",
       "      <td>Yes</td>\n",
       "      <td>Yes</td>\n",
       "      <td>49</td>\n",
       "      <td>PayPal</td>\n",
       "      <td>Weekly</td>\n",
       "    </tr>\n",
       "    <tr>\n",
       "      <th>4</th>\n",
       "      <td>5</td>\n",
       "      <td>45</td>\n",
       "      <td>0</td>\n",
       "      <td>2</td>\n",
       "      <td>0.0</td>\n",
       "      <td>49</td>\n",
       "      <td>36</td>\n",
       "      <td>M</td>\n",
       "      <td>Turquoise</td>\n",
       "      <td>Spring</td>\n",
       "      <td>2.7</td>\n",
       "      <td>Yes</td>\n",
       "      <td>Free Shipping</td>\n",
       "      <td>Yes</td>\n",
       "      <td>Yes</td>\n",
       "      <td>31</td>\n",
       "      <td>PayPal</td>\n",
       "      <td>Annually</td>\n",
       "    </tr>\n",
       "  </tbody>\n",
       "</table>\n",
       "</div>"
      ],
      "text/plain": [
       "   Customer ID  Age  Gender  Item Purchased  Category  Purchase Amount (USD)  \\\n",
       "0            1   55       0               2       0.0                     53   \n",
       "1            2   19       0              23       0.0                     64   \n",
       "2            3   50       0              11       0.0                     73   \n",
       "3            4   21       0              14       1.0                     90   \n",
       "4            5   45       0               2       0.0                     49   \n",
       "\n",
       "   Location Size      Color  Season  Review Rating Subscription Status  \\\n",
       "0        16    L       Gray  Winter            3.1                 Yes   \n",
       "1        18    L     Maroon  Winter            3.1                 Yes   \n",
       "2        20    S     Maroon  Spring            3.1                 Yes   \n",
       "3        38    M     Maroon  Spring            3.5                 Yes   \n",
       "4        36    M  Turquoise  Spring            2.7                 Yes   \n",
       "\n",
       "   Shipping Type Discount Applied Promo Code Used  Previous Purchases  \\\n",
       "0        Express              Yes             Yes                  14   \n",
       "1        Express              Yes             Yes                   2   \n",
       "2  Free Shipping              Yes             Yes                  23   \n",
       "3   Next Day Air              Yes             Yes                  49   \n",
       "4  Free Shipping              Yes             Yes                  31   \n",
       "\n",
       "  Payment Method Frequency of Purchases  \n",
       "0          Venmo            Fortnightly  \n",
       "1           Cash            Fortnightly  \n",
       "2    Credit Card                 Weekly  \n",
       "3         PayPal                 Weekly  \n",
       "4         PayPal               Annually  "
      ]
     },
     "execution_count": 14,
     "metadata": {},
     "output_type": "execute_result"
    }
   ],
   "source": [
    "df.head()"
   ]
  },
  {
   "cell_type": "code",
   "execution_count": 15,
   "id": "8400e2ec",
   "metadata": {
    "collapsed": true
   },
   "outputs": [
    {
     "name": "stdout",
     "output_type": "stream",
     "text": [
      "['Venmo' 'Cash' 'Credit Card' 'PayPal' 'Bank Transfer' 'Debit Card']\n"
     ]
    }
   ],
   "source": [
    "unique_Payment_Method = df['Payment Method'].unique()\n",
    "print(unique_Payment_Method)"
   ]
  },
  {
   "cell_type": "code",
   "execution_count": 16,
   "id": "bfe996b0",
   "metadata": {
    "collapsed": true
   },
   "outputs": [
    {
     "name": "stdout",
     "output_type": "stream",
     "text": [
      "['Gray' 'Maroon' 'Turquoise' 'White' 'Charcoal' 'Silver' 'Pink' 'Purple'\n",
      " 'Olive' 'Gold' 'Violet' 'Teal' 'Lavender' 'Black' 'Green' 'Peach' 'Red'\n",
      " 'Cyan' 'Brown' 'Beige' 'Orange' 'Indigo' 'Yellow' 'Magenta' 'Blue']\n"
     ]
    }
   ],
   "source": [
    "unique_Color = df['Color'].unique()\n",
    "print(unique_Color)"
   ]
  },
  {
   "cell_type": "code",
   "execution_count": 17,
   "id": "a8a5dbf2",
   "metadata": {
    "collapsed": true
   },
   "outputs": [
    {
     "name": "stdout",
     "output_type": "stream",
     "text": [
      "        Color  Color_encoded\n",
      "0        Gray              7\n",
      "1      Maroon             12\n",
      "2   Turquoise             21\n",
      "3       White             23\n",
      "4    Charcoal              4\n",
      "5      Silver             19\n",
      "6        Pink             16\n",
      "7      Purple             17\n",
      "8       Olive             13\n",
      "9        Gold              6\n",
      "10     Violet             22\n",
      "11       Teal             20\n",
      "12   Lavender             10\n",
      "13      Black              1\n",
      "14      Green              8\n",
      "15      Peach             15\n",
      "16        Red             18\n",
      "17       Cyan              5\n",
      "18      Brown              3\n",
      "19      Beige              0\n",
      "20     Orange             14\n",
      "21     Indigo              9\n",
      "22     Yellow             24\n",
      "23    Magenta             11\n",
      "24       Blue              2\n"
     ]
    }
   ],
   "source": [
    "data2 = {\"Color\": ['Gray', 'Maroon', 'Turquoise' ,'White', 'Charcoal', 'Silver', 'Pink', 'Purple',\n",
    " 'Olive', 'Gold' ,'Violet', 'Teal', 'Lavender', 'Black', 'Green', 'Peach','Red',\n",
    " 'Cyan', 'Brown', 'Beige', 'Orange', 'Indigo', 'Yellow', 'Magenta', 'Blue']}\n",
    "\n",
    "# Create DataFrame\n",
    "df3 = pd.DataFrame(data2)\n",
    "\n",
    "# Initialize the LabelEncoder\n",
    "label_encoder = LabelEncoder()\n",
    "\n",
    "# Apply the LabelEncoder to the 'Items purchased' column\n",
    "df3['Color_encoded'] = label_encoder.fit_transform(df3['Color'])\n",
    "\n",
    "print(df3)"
   ]
  },
  {
   "cell_type": "code",
   "execution_count": 18,
   "id": "c940baee",
   "metadata": {
    "collapsed": true
   },
   "outputs": [
    {
     "name": "stdout",
     "output_type": "stream",
     "text": [
      "      Customer ID  Age  Gender  Item Purchased  Category  \\\n",
      "0               1   55       0               2       0.0   \n",
      "1               2   19       0              23       0.0   \n",
      "2               3   50       0              11       0.0   \n",
      "3               4   21       0              14       1.0   \n",
      "4               5   45       0               2       0.0   \n",
      "...           ...  ...     ...             ...       ...   \n",
      "3895         3896   40       1               9       0.0   \n",
      "3896         3897   52       1               0       3.0   \n",
      "3897         3898   46       1               1       3.0   \n",
      "3898         3899   44       1              17       1.0   \n",
      "3899         3900   52       1               7       3.0   \n",
      "\n",
      "      Purchase Amount (USD)  Location Size  Color  Season  Review Rating  \\\n",
      "0                        53        16    L      7  Winter            3.1   \n",
      "1                        64        18    L     12  Winter            3.1   \n",
      "2                        73        20    S     12  Spring            3.1   \n",
      "3                        90        38    M     12  Spring            3.5   \n",
      "4                        49        36    M     21  Spring            2.7   \n",
      "...                     ...       ...  ...    ...     ...            ...   \n",
      "3895                     28        45    L     21  Summer            4.2   \n",
      "3896                     49        14    L     23  Spring            4.5   \n",
      "3897                     33        29    L      8  Spring            2.9   \n",
      "3898                     77        22    S      3  Summer            3.8   \n",
      "3899                     81         4    M      0  Spring            3.1   \n",
      "\n",
      "     Subscription Status   Shipping Type Discount Applied Promo Code Used  \\\n",
      "0                    Yes         Express              Yes             Yes   \n",
      "1                    Yes         Express              Yes             Yes   \n",
      "2                    Yes   Free Shipping              Yes             Yes   \n",
      "3                    Yes    Next Day Air              Yes             Yes   \n",
      "4                    Yes   Free Shipping              Yes             Yes   \n",
      "...                  ...             ...              ...             ...   \n",
      "3895                  No  2-Day Shipping               No              No   \n",
      "3896                  No    Store Pickup               No              No   \n",
      "3897                  No        Standard               No              No   \n",
      "3898                  No         Express               No              No   \n",
      "3899                  No    Store Pickup               No              No   \n",
      "\n",
      "      Previous Purchases Payment Method Frequency of Purchases  \n",
      "0                     14          Venmo            Fortnightly  \n",
      "1                      2           Cash            Fortnightly  \n",
      "2                     23    Credit Card                 Weekly  \n",
      "3                     49         PayPal                 Weekly  \n",
      "4                     31         PayPal               Annually  \n",
      "...                  ...            ...                    ...  \n",
      "3895                  32          Venmo                 Weekly  \n",
      "3896                  41  Bank Transfer              Bi-Weekly  \n",
      "3897                  24          Venmo              Quarterly  \n",
      "3898                  24          Venmo                 Weekly  \n",
      "3899                  33          Venmo              Quarterly  \n",
      "\n",
      "[3900 rows x 18 columns]\n"
     ]
    }
   ],
   "source": [
    "Color_encoded_mapping = dict(zip(df3['Color'], df3['Color_encoded']))\n",
    "\n",
    "df['Color'] = df['Color'].map(Color_encoded_mapping)\n",
    "print(df)"
   ]
  },
  {
   "cell_type": "code",
   "execution_count": 19,
   "id": "c7e9e838",
   "metadata": {
    "collapsed": true
   },
   "outputs": [
    {
     "name": "stdout",
     "output_type": "stream",
     "text": [
      "      Customer ID  Age  Gender  Item Purchased  Category  \\\n",
      "0               1   55       0               2       0.0   \n",
      "1               2   19       0              23       0.0   \n",
      "2               3   50       0              11       0.0   \n",
      "3               4   21       0              14       1.0   \n",
      "4               5   45       0               2       0.0   \n",
      "...           ...  ...     ...             ...       ...   \n",
      "3895         3896   40       1               9       0.0   \n",
      "3896         3897   52       1               0       3.0   \n",
      "3897         3898   46       1               1       3.0   \n",
      "3898         3899   44       1              17       1.0   \n",
      "3899         3900   52       1               7       3.0   \n",
      "\n",
      "      Purchase Amount (USD)  Location Size  Color  Season  ...  \\\n",
      "0                        53        16    L      7  Winter  ...   \n",
      "1                        64        18    L     12  Winter  ...   \n",
      "2                        73        20    S     12  Spring  ...   \n",
      "3                        90        38    M     12  Spring  ...   \n",
      "4                        49        36    M     21  Spring  ...   \n",
      "...                     ...       ...  ...    ...     ...  ...   \n",
      "3895                     28        45    L     21  Summer  ...   \n",
      "3896                     49        14    L     23  Spring  ...   \n",
      "3897                     33        29    L      8  Spring  ...   \n",
      "3898                     77        22    S      3  Summer  ...   \n",
      "3899                     81         4    M      0  Spring  ...   \n",
      "\n",
      "      Payment Method Frequency of Purchases size season Subscription_Status  \\\n",
      "0              Venmo            Fortnightly    2      3                   1   \n",
      "1               Cash            Fortnightly    2      3                   1   \n",
      "2        Credit Card                 Weekly    0      0                   1   \n",
      "3             PayPal                 Weekly    1      0                   1   \n",
      "4             PayPal               Annually    1      0                   1   \n",
      "...              ...                    ...  ...    ...                 ...   \n",
      "3895           Venmo                 Weekly    2      1                   0   \n",
      "3896   Bank Transfer              Bi-Weekly    2      0                   0   \n",
      "3897           Venmo              Quarterly    2      0                   0   \n",
      "3898           Venmo                 Weekly    0      1                   0   \n",
      "3899           Venmo              Quarterly    1      0                   0   \n",
      "\n",
      "      Shipping_Type Discount_Applied Payment_Method  Frequency_of_Purchases  \\\n",
      "0                 0                1              0                       0   \n",
      "1                 0                1              1                       0   \n",
      "2                 1                1              2                       1   \n",
      "3                 2                1              3                       1   \n",
      "4                 1                1              3                       2   \n",
      "...             ...              ...            ...                     ...   \n",
      "3895              4                0              0                       1   \n",
      "3896              5                0              4                       4   \n",
      "3897              3                0              0                       3   \n",
      "3898              0                0              0                       1   \n",
      "3899              5                0              0                       3   \n",
      "\n",
      "      Promo_Code_Used  \n",
      "0                   1  \n",
      "1                   1  \n",
      "2                   1  \n",
      "3                   1  \n",
      "4                   1  \n",
      "...               ...  \n",
      "3895                0  \n",
      "3896                0  \n",
      "3897                0  \n",
      "3898                0  \n",
      "3899                0  \n",
      "\n",
      "[3900 rows x 26 columns]\n"
     ]
    }
   ],
   "source": [
    "d_size = {'S': 0, 'M': 1, 'L': 2, 'XL':3}\n",
    "d_season = {'Spring': 0, 'Summer': 1, 'Fall': 2, 'Winter':3}\n",
    "d_Subscription_Status = {'No': 0, 'Yes': 1}\n",
    "d_Promo_Code_Used = {'No': 0, 'Yes': 1}\n",
    "d_Shipping_Type = {'Express': 0, 'Free Shipping': 1, 'Next Day Air':2, 'Standard':3, '2-Day Shipping':4, 'Store Pickup':5}\n",
    "d_Discount_Applied = {'No': 0, 'Yes': 1}\n",
    "d_Payment_Method = {'Venmo':0, 'Cash':1, 'Credit Card':2, 'PayPal':3, 'Bank Transfer':4, 'Debit Card':5}\n",
    "d_Frequency_of_Purchases = {'Fortnightly': 0, 'Weekly':1, 'Annually':2, 'Quarterly':3, 'Bi-Weekly': 4, 'Every 3 Months':5, 'Monthly':6}\n",
    "\n",
    "\n",
    "df['size'] = df['Size'].map(d_size)\n",
    "df['season'] = df['Season'].map(d_season)\n",
    "df['Subscription_Status'] = df['Subscription Status'].map(d_Subscription_Status)\n",
    "df['Shipping_Type'] = df['Shipping Type'].map(d_Shipping_Type)\n",
    "df['Discount_Applied'] = df['Discount Applied'].map(d_Discount_Applied)\n",
    "df['Payment_Method'] = df['Payment Method'].map(d_Payment_Method)\n",
    "df['Frequency_of_Purchases'] = df['Frequency of Purchases'].map(d_Frequency_of_Purchases)\n",
    "df['Promo_Code_Used'] = df['Promo Code Used'].map(d_Promo_Code_Used)\n",
    "\n",
    "print(df)\n"
   ]
  },
  {
   "cell_type": "code",
   "execution_count": 20,
   "id": "606a62bc",
   "metadata": {
    "collapsed": true
   },
   "outputs": [
    {
     "data": {
      "text/html": [
       "<div>\n",
       "<style scoped>\n",
       "    .dataframe tbody tr th:only-of-type {\n",
       "        vertical-align: middle;\n",
       "    }\n",
       "\n",
       "    .dataframe tbody tr th {\n",
       "        vertical-align: top;\n",
       "    }\n",
       "\n",
       "    .dataframe thead th {\n",
       "        text-align: right;\n",
       "    }\n",
       "</style>\n",
       "<table border=\"1\" class=\"dataframe\">\n",
       "  <thead>\n",
       "    <tr style=\"text-align: right;\">\n",
       "      <th></th>\n",
       "      <th>Customer ID</th>\n",
       "      <th>Age</th>\n",
       "      <th>Gender</th>\n",
       "      <th>Item Purchased</th>\n",
       "      <th>Category</th>\n",
       "      <th>Purchase Amount (USD)</th>\n",
       "      <th>Location</th>\n",
       "      <th>Size</th>\n",
       "      <th>Color</th>\n",
       "      <th>Season</th>\n",
       "      <th>...</th>\n",
       "      <th>Payment Method</th>\n",
       "      <th>Frequency of Purchases</th>\n",
       "      <th>size</th>\n",
       "      <th>season</th>\n",
       "      <th>Subscription_Status</th>\n",
       "      <th>Shipping_Type</th>\n",
       "      <th>Discount_Applied</th>\n",
       "      <th>Payment_Method</th>\n",
       "      <th>Frequency_of_Purchases</th>\n",
       "      <th>Promo_Code_Used</th>\n",
       "    </tr>\n",
       "  </thead>\n",
       "  <tbody>\n",
       "    <tr>\n",
       "      <th>0</th>\n",
       "      <td>1</td>\n",
       "      <td>55</td>\n",
       "      <td>0</td>\n",
       "      <td>2</td>\n",
       "      <td>0.0</td>\n",
       "      <td>53</td>\n",
       "      <td>16</td>\n",
       "      <td>L</td>\n",
       "      <td>7</td>\n",
       "      <td>Winter</td>\n",
       "      <td>...</td>\n",
       "      <td>Venmo</td>\n",
       "      <td>Fortnightly</td>\n",
       "      <td>2</td>\n",
       "      <td>3</td>\n",
       "      <td>1</td>\n",
       "      <td>0</td>\n",
       "      <td>1</td>\n",
       "      <td>0</td>\n",
       "      <td>0</td>\n",
       "      <td>1</td>\n",
       "    </tr>\n",
       "    <tr>\n",
       "      <th>1</th>\n",
       "      <td>2</td>\n",
       "      <td>19</td>\n",
       "      <td>0</td>\n",
       "      <td>23</td>\n",
       "      <td>0.0</td>\n",
       "      <td>64</td>\n",
       "      <td>18</td>\n",
       "      <td>L</td>\n",
       "      <td>12</td>\n",
       "      <td>Winter</td>\n",
       "      <td>...</td>\n",
       "      <td>Cash</td>\n",
       "      <td>Fortnightly</td>\n",
       "      <td>2</td>\n",
       "      <td>3</td>\n",
       "      <td>1</td>\n",
       "      <td>0</td>\n",
       "      <td>1</td>\n",
       "      <td>1</td>\n",
       "      <td>0</td>\n",
       "      <td>1</td>\n",
       "    </tr>\n",
       "    <tr>\n",
       "      <th>2</th>\n",
       "      <td>3</td>\n",
       "      <td>50</td>\n",
       "      <td>0</td>\n",
       "      <td>11</td>\n",
       "      <td>0.0</td>\n",
       "      <td>73</td>\n",
       "      <td>20</td>\n",
       "      <td>S</td>\n",
       "      <td>12</td>\n",
       "      <td>Spring</td>\n",
       "      <td>...</td>\n",
       "      <td>Credit Card</td>\n",
       "      <td>Weekly</td>\n",
       "      <td>0</td>\n",
       "      <td>0</td>\n",
       "      <td>1</td>\n",
       "      <td>1</td>\n",
       "      <td>1</td>\n",
       "      <td>2</td>\n",
       "      <td>1</td>\n",
       "      <td>1</td>\n",
       "    </tr>\n",
       "    <tr>\n",
       "      <th>3</th>\n",
       "      <td>4</td>\n",
       "      <td>21</td>\n",
       "      <td>0</td>\n",
       "      <td>14</td>\n",
       "      <td>1.0</td>\n",
       "      <td>90</td>\n",
       "      <td>38</td>\n",
       "      <td>M</td>\n",
       "      <td>12</td>\n",
       "      <td>Spring</td>\n",
       "      <td>...</td>\n",
       "      <td>PayPal</td>\n",
       "      <td>Weekly</td>\n",
       "      <td>1</td>\n",
       "      <td>0</td>\n",
       "      <td>1</td>\n",
       "      <td>2</td>\n",
       "      <td>1</td>\n",
       "      <td>3</td>\n",
       "      <td>1</td>\n",
       "      <td>1</td>\n",
       "    </tr>\n",
       "    <tr>\n",
       "      <th>4</th>\n",
       "      <td>5</td>\n",
       "      <td>45</td>\n",
       "      <td>0</td>\n",
       "      <td>2</td>\n",
       "      <td>0.0</td>\n",
       "      <td>49</td>\n",
       "      <td>36</td>\n",
       "      <td>M</td>\n",
       "      <td>21</td>\n",
       "      <td>Spring</td>\n",
       "      <td>...</td>\n",
       "      <td>PayPal</td>\n",
       "      <td>Annually</td>\n",
       "      <td>1</td>\n",
       "      <td>0</td>\n",
       "      <td>1</td>\n",
       "      <td>1</td>\n",
       "      <td>1</td>\n",
       "      <td>3</td>\n",
       "      <td>2</td>\n",
       "      <td>1</td>\n",
       "    </tr>\n",
       "  </tbody>\n",
       "</table>\n",
       "<p>5 rows × 26 columns</p>\n",
       "</div>"
      ],
      "text/plain": [
       "   Customer ID  Age  Gender  Item Purchased  Category  Purchase Amount (USD)  \\\n",
       "0            1   55       0               2       0.0                     53   \n",
       "1            2   19       0              23       0.0                     64   \n",
       "2            3   50       0              11       0.0                     73   \n",
       "3            4   21       0              14       1.0                     90   \n",
       "4            5   45       0               2       0.0                     49   \n",
       "\n",
       "   Location Size  Color  Season  ...  Payment Method Frequency of Purchases  \\\n",
       "0        16    L      7  Winter  ...           Venmo            Fortnightly   \n",
       "1        18    L     12  Winter  ...            Cash            Fortnightly   \n",
       "2        20    S     12  Spring  ...     Credit Card                 Weekly   \n",
       "3        38    M     12  Spring  ...          PayPal                 Weekly   \n",
       "4        36    M     21  Spring  ...          PayPal               Annually   \n",
       "\n",
       "  size season Subscription_Status  Shipping_Type Discount_Applied  \\\n",
       "0    2      3                   1              0                1   \n",
       "1    2      3                   1              0                1   \n",
       "2    0      0                   1              1                1   \n",
       "3    1      0                   1              2                1   \n",
       "4    1      0                   1              1                1   \n",
       "\n",
       "  Payment_Method  Frequency_of_Purchases  Promo_Code_Used  \n",
       "0              0                       0                1  \n",
       "1              1                       0                1  \n",
       "2              2                       1                1  \n",
       "3              3                       1                1  \n",
       "4              3                       2                1  \n",
       "\n",
       "[5 rows x 26 columns]"
      ]
     },
     "execution_count": 20,
     "metadata": {},
     "output_type": "execute_result"
    }
   ],
   "source": [
    "df.head()"
   ]
  },
  {
   "cell_type": "code",
   "execution_count": 21,
   "id": "aed06da3",
   "metadata": {},
   "outputs": [],
   "source": [
    "#I noted some columns were not replaced, but simply a new one was created. Therefore I proceeded to drop the categorical values columns and only leave the numerical new colums.Using inplace=True to modify the original DataFrame directly\n",
    "df.drop(columns= [\"Payment Method\", \"Frequency of Purchases\", \"Shipping Type\", \"Discount Applied\", \"Subscription Status\", \"Promo Code Used\", \"Size\", \"Season\"], inplace = True)"
   ]
  },
  {
   "cell_type": "code",
   "execution_count": 22,
   "id": "86b63b26",
   "metadata": {
    "collapsed": true
   },
   "outputs": [
    {
     "data": {
      "text/html": [
       "<div>\n",
       "<style scoped>\n",
       "    .dataframe tbody tr th:only-of-type {\n",
       "        vertical-align: middle;\n",
       "    }\n",
       "\n",
       "    .dataframe tbody tr th {\n",
       "        vertical-align: top;\n",
       "    }\n",
       "\n",
       "    .dataframe thead th {\n",
       "        text-align: right;\n",
       "    }\n",
       "</style>\n",
       "<table border=\"1\" class=\"dataframe\">\n",
       "  <thead>\n",
       "    <tr style=\"text-align: right;\">\n",
       "      <th></th>\n",
       "      <th>Customer ID</th>\n",
       "      <th>Age</th>\n",
       "      <th>Gender</th>\n",
       "      <th>Item Purchased</th>\n",
       "      <th>Category</th>\n",
       "      <th>Purchase Amount (USD)</th>\n",
       "      <th>Location</th>\n",
       "      <th>Color</th>\n",
       "      <th>Review Rating</th>\n",
       "      <th>Previous Purchases</th>\n",
       "      <th>size</th>\n",
       "      <th>season</th>\n",
       "      <th>Subscription_Status</th>\n",
       "      <th>Shipping_Type</th>\n",
       "      <th>Discount_Applied</th>\n",
       "      <th>Payment_Method</th>\n",
       "      <th>Frequency_of_Purchases</th>\n",
       "      <th>Promo_Code_Used</th>\n",
       "    </tr>\n",
       "  </thead>\n",
       "  <tbody>\n",
       "    <tr>\n",
       "      <th>0</th>\n",
       "      <td>1</td>\n",
       "      <td>55</td>\n",
       "      <td>0</td>\n",
       "      <td>2</td>\n",
       "      <td>0.0</td>\n",
       "      <td>53</td>\n",
       "      <td>16</td>\n",
       "      <td>7</td>\n",
       "      <td>3.1</td>\n",
       "      <td>14</td>\n",
       "      <td>2</td>\n",
       "      <td>3</td>\n",
       "      <td>1</td>\n",
       "      <td>0</td>\n",
       "      <td>1</td>\n",
       "      <td>0</td>\n",
       "      <td>0</td>\n",
       "      <td>1</td>\n",
       "    </tr>\n",
       "    <tr>\n",
       "      <th>1</th>\n",
       "      <td>2</td>\n",
       "      <td>19</td>\n",
       "      <td>0</td>\n",
       "      <td>23</td>\n",
       "      <td>0.0</td>\n",
       "      <td>64</td>\n",
       "      <td>18</td>\n",
       "      <td>12</td>\n",
       "      <td>3.1</td>\n",
       "      <td>2</td>\n",
       "      <td>2</td>\n",
       "      <td>3</td>\n",
       "      <td>1</td>\n",
       "      <td>0</td>\n",
       "      <td>1</td>\n",
       "      <td>1</td>\n",
       "      <td>0</td>\n",
       "      <td>1</td>\n",
       "    </tr>\n",
       "    <tr>\n",
       "      <th>2</th>\n",
       "      <td>3</td>\n",
       "      <td>50</td>\n",
       "      <td>0</td>\n",
       "      <td>11</td>\n",
       "      <td>0.0</td>\n",
       "      <td>73</td>\n",
       "      <td>20</td>\n",
       "      <td>12</td>\n",
       "      <td>3.1</td>\n",
       "      <td>23</td>\n",
       "      <td>0</td>\n",
       "      <td>0</td>\n",
       "      <td>1</td>\n",
       "      <td>1</td>\n",
       "      <td>1</td>\n",
       "      <td>2</td>\n",
       "      <td>1</td>\n",
       "      <td>1</td>\n",
       "    </tr>\n",
       "    <tr>\n",
       "      <th>3</th>\n",
       "      <td>4</td>\n",
       "      <td>21</td>\n",
       "      <td>0</td>\n",
       "      <td>14</td>\n",
       "      <td>1.0</td>\n",
       "      <td>90</td>\n",
       "      <td>38</td>\n",
       "      <td>12</td>\n",
       "      <td>3.5</td>\n",
       "      <td>49</td>\n",
       "      <td>1</td>\n",
       "      <td>0</td>\n",
       "      <td>1</td>\n",
       "      <td>2</td>\n",
       "      <td>1</td>\n",
       "      <td>3</td>\n",
       "      <td>1</td>\n",
       "      <td>1</td>\n",
       "    </tr>\n",
       "    <tr>\n",
       "      <th>4</th>\n",
       "      <td>5</td>\n",
       "      <td>45</td>\n",
       "      <td>0</td>\n",
       "      <td>2</td>\n",
       "      <td>0.0</td>\n",
       "      <td>49</td>\n",
       "      <td>36</td>\n",
       "      <td>21</td>\n",
       "      <td>2.7</td>\n",
       "      <td>31</td>\n",
       "      <td>1</td>\n",
       "      <td>0</td>\n",
       "      <td>1</td>\n",
       "      <td>1</td>\n",
       "      <td>1</td>\n",
       "      <td>3</td>\n",
       "      <td>2</td>\n",
       "      <td>1</td>\n",
       "    </tr>\n",
       "  </tbody>\n",
       "</table>\n",
       "</div>"
      ],
      "text/plain": [
       "   Customer ID  Age  Gender  Item Purchased  Category  Purchase Amount (USD)  \\\n",
       "0            1   55       0               2       0.0                     53   \n",
       "1            2   19       0              23       0.0                     64   \n",
       "2            3   50       0              11       0.0                     73   \n",
       "3            4   21       0              14       1.0                     90   \n",
       "4            5   45       0               2       0.0                     49   \n",
       "\n",
       "   Location  Color  Review Rating  Previous Purchases  size  season  \\\n",
       "0        16      7            3.1                  14     2       3   \n",
       "1        18     12            3.1                   2     2       3   \n",
       "2        20     12            3.1                  23     0       0   \n",
       "3        38     12            3.5                  49     1       0   \n",
       "4        36     21            2.7                  31     1       0   \n",
       "\n",
       "   Subscription_Status  Shipping_Type  Discount_Applied  Payment_Method  \\\n",
       "0                    1              0                 1               0   \n",
       "1                    1              0                 1               1   \n",
       "2                    1              1                 1               2   \n",
       "3                    1              2                 1               3   \n",
       "4                    1              1                 1               3   \n",
       "\n",
       "   Frequency_of_Purchases  Promo_Code_Used  \n",
       "0                       0                1  \n",
       "1                       0                1  \n",
       "2                       1                1  \n",
       "3                       1                1  \n",
       "4                       2                1  "
      ]
     },
     "execution_count": 22,
     "metadata": {},
     "output_type": "execute_result"
    }
   ],
   "source": [
    "df.head()"
   ]
  },
  {
   "cell_type": "code",
   "execution_count": 23,
   "id": "e11e7776",
   "metadata": {
    "collapsed": true
   },
   "outputs": [
    {
     "data": {
      "text/html": [
       "<div>\n",
       "<style scoped>\n",
       "    .dataframe tbody tr th:only-of-type {\n",
       "        vertical-align: middle;\n",
       "    }\n",
       "\n",
       "    .dataframe tbody tr th {\n",
       "        vertical-align: top;\n",
       "    }\n",
       "\n",
       "    .dataframe thead th {\n",
       "        text-align: right;\n",
       "    }\n",
       "</style>\n",
       "<table border=\"1\" class=\"dataframe\">\n",
       "  <thead>\n",
       "    <tr style=\"text-align: right;\">\n",
       "      <th></th>\n",
       "      <th>Customer ID</th>\n",
       "      <th>Age</th>\n",
       "      <th>Gender</th>\n",
       "      <th>Item Purchased</th>\n",
       "      <th>Category</th>\n",
       "      <th>Purchase Amount (USD)</th>\n",
       "      <th>Location</th>\n",
       "      <th>Color</th>\n",
       "      <th>Review Rating</th>\n",
       "      <th>Previous Purchases</th>\n",
       "      <th>size</th>\n",
       "      <th>season</th>\n",
       "      <th>Subscription_Status</th>\n",
       "      <th>Shipping_Type</th>\n",
       "      <th>Discount_Applied</th>\n",
       "      <th>Payment_Method</th>\n",
       "      <th>Frequency_of_Purchases</th>\n",
       "      <th>Promo_Code_Used</th>\n",
       "    </tr>\n",
       "  </thead>\n",
       "  <tbody>\n",
       "    <tr>\n",
       "      <th>0</th>\n",
       "      <td>1</td>\n",
       "      <td>55</td>\n",
       "      <td>0</td>\n",
       "      <td>2</td>\n",
       "      <td>0.0</td>\n",
       "      <td>53</td>\n",
       "      <td>16</td>\n",
       "      <td>7</td>\n",
       "      <td>3.1</td>\n",
       "      <td>14</td>\n",
       "      <td>2</td>\n",
       "      <td>3</td>\n",
       "      <td>1</td>\n",
       "      <td>0</td>\n",
       "      <td>1</td>\n",
       "      <td>0</td>\n",
       "      <td>0</td>\n",
       "      <td>1</td>\n",
       "    </tr>\n",
       "    <tr>\n",
       "      <th>1</th>\n",
       "      <td>2</td>\n",
       "      <td>19</td>\n",
       "      <td>0</td>\n",
       "      <td>23</td>\n",
       "      <td>0.0</td>\n",
       "      <td>64</td>\n",
       "      <td>18</td>\n",
       "      <td>12</td>\n",
       "      <td>3.1</td>\n",
       "      <td>2</td>\n",
       "      <td>2</td>\n",
       "      <td>3</td>\n",
       "      <td>1</td>\n",
       "      <td>0</td>\n",
       "      <td>1</td>\n",
       "      <td>1</td>\n",
       "      <td>0</td>\n",
       "      <td>1</td>\n",
       "    </tr>\n",
       "    <tr>\n",
       "      <th>2</th>\n",
       "      <td>3</td>\n",
       "      <td>50</td>\n",
       "      <td>0</td>\n",
       "      <td>11</td>\n",
       "      <td>0.0</td>\n",
       "      <td>73</td>\n",
       "      <td>20</td>\n",
       "      <td>12</td>\n",
       "      <td>3.1</td>\n",
       "      <td>23</td>\n",
       "      <td>0</td>\n",
       "      <td>0</td>\n",
       "      <td>1</td>\n",
       "      <td>1</td>\n",
       "      <td>1</td>\n",
       "      <td>2</td>\n",
       "      <td>1</td>\n",
       "      <td>1</td>\n",
       "    </tr>\n",
       "    <tr>\n",
       "      <th>3</th>\n",
       "      <td>4</td>\n",
       "      <td>21</td>\n",
       "      <td>0</td>\n",
       "      <td>14</td>\n",
       "      <td>1.0</td>\n",
       "      <td>90</td>\n",
       "      <td>38</td>\n",
       "      <td>12</td>\n",
       "      <td>3.5</td>\n",
       "      <td>49</td>\n",
       "      <td>1</td>\n",
       "      <td>0</td>\n",
       "      <td>1</td>\n",
       "      <td>2</td>\n",
       "      <td>1</td>\n",
       "      <td>3</td>\n",
       "      <td>1</td>\n",
       "      <td>1</td>\n",
       "    </tr>\n",
       "    <tr>\n",
       "      <th>4</th>\n",
       "      <td>5</td>\n",
       "      <td>45</td>\n",
       "      <td>0</td>\n",
       "      <td>2</td>\n",
       "      <td>0.0</td>\n",
       "      <td>49</td>\n",
       "      <td>36</td>\n",
       "      <td>21</td>\n",
       "      <td>2.7</td>\n",
       "      <td>31</td>\n",
       "      <td>1</td>\n",
       "      <td>0</td>\n",
       "      <td>1</td>\n",
       "      <td>1</td>\n",
       "      <td>1</td>\n",
       "      <td>3</td>\n",
       "      <td>2</td>\n",
       "      <td>1</td>\n",
       "    </tr>\n",
       "  </tbody>\n",
       "</table>\n",
       "</div>"
      ],
      "text/plain": [
       "   Customer ID  Age  Gender  Item Purchased  Category  Purchase Amount (USD)  \\\n",
       "0            1   55       0               2       0.0                     53   \n",
       "1            2   19       0              23       0.0                     64   \n",
       "2            3   50       0              11       0.0                     73   \n",
       "3            4   21       0              14       1.0                     90   \n",
       "4            5   45       0               2       0.0                     49   \n",
       "\n",
       "   Location  Color  Review Rating  Previous Purchases  size  season  \\\n",
       "0        16      7            3.1                  14     2       3   \n",
       "1        18     12            3.1                   2     2       3   \n",
       "2        20     12            3.1                  23     0       0   \n",
       "3        38     12            3.5                  49     1       0   \n",
       "4        36     21            2.7                  31     1       0   \n",
       "\n",
       "   Subscription_Status  Shipping_Type  Discount_Applied  Payment_Method  \\\n",
       "0                    1              0                 1               0   \n",
       "1                    1              0                 1               1   \n",
       "2                    1              1                 1               2   \n",
       "3                    1              2                 1               3   \n",
       "4                    1              1                 1               3   \n",
       "\n",
       "   Frequency_of_Purchases  Promo_Code_Used  \n",
       "0                       0                1  \n",
       "1                       0                1  \n",
       "2                       1                1  \n",
       "3                       1                1  \n",
       "4                       2                1  "
      ]
     },
     "execution_count": 23,
     "metadata": {},
     "output_type": "execute_result"
    }
   ],
   "source": [
    "df.head()"
   ]
  },
  {
   "cell_type": "code",
   "execution_count": 24,
   "id": "e112d3b1",
   "metadata": {
    "collapsed": true
   },
   "outputs": [
    {
     "name": "stdout",
     "output_type": "stream",
     "text": [
      "<bound method NDFrame._add_numeric_operations.<locals>.sum of       Customer ID    Age  Gender  Item Purchased  Category  \\\n",
      "0           False  False   False           False     False   \n",
      "1           False  False   False           False     False   \n",
      "2           False  False   False           False     False   \n",
      "3           False  False   False           False     False   \n",
      "4           False  False   False           False     False   \n",
      "...           ...    ...     ...             ...       ...   \n",
      "3895        False  False   False           False     False   \n",
      "3896        False  False   False           False     False   \n",
      "3897        False  False   False           False     False   \n",
      "3898        False  False   False           False     False   \n",
      "3899        False  False   False           False     False   \n",
      "\n",
      "      Purchase Amount (USD)  Location  Color  Review Rating  \\\n",
      "0                     False     False  False          False   \n",
      "1                     False     False  False          False   \n",
      "2                     False     False  False          False   \n",
      "3                     False     False  False          False   \n",
      "4                     False     False  False          False   \n",
      "...                     ...       ...    ...            ...   \n",
      "3895                  False     False  False          False   \n",
      "3896                  False     False  False          False   \n",
      "3897                  False     False  False          False   \n",
      "3898                  False     False  False          False   \n",
      "3899                  False     False  False          False   \n",
      "\n",
      "      Previous Purchases   size  season  Subscription_Status  Shipping_Type  \\\n",
      "0                  False  False   False                False          False   \n",
      "1                  False  False   False                False          False   \n",
      "2                  False  False   False                False          False   \n",
      "3                  False  False   False                False          False   \n",
      "4                  False  False   False                False          False   \n",
      "...                  ...    ...     ...                  ...            ...   \n",
      "3895               False  False   False                False          False   \n",
      "3896               False  False   False                False          False   \n",
      "3897               False  False   False                False          False   \n",
      "3898               False  False   False                False          False   \n",
      "3899               False  False   False                False          False   \n",
      "\n",
      "      Discount_Applied  Payment_Method  Frequency_of_Purchases  \\\n",
      "0                False           False                   False   \n",
      "1                False           False                   False   \n",
      "2                False           False                   False   \n",
      "3                False           False                   False   \n",
      "4                False           False                   False   \n",
      "...                ...             ...                     ...   \n",
      "3895             False           False                   False   \n",
      "3896             False           False                   False   \n",
      "3897             False           False                   False   \n",
      "3898             False           False                   False   \n",
      "3899             False           False                   False   \n",
      "\n",
      "      Promo_Code_Used  \n",
      "0               False  \n",
      "1               False  \n",
      "2               False  \n",
      "3               False  \n",
      "4               False  \n",
      "...               ...  \n",
      "3895            False  \n",
      "3896            False  \n",
      "3897            False  \n",
      "3898            False  \n",
      "3899            False  \n",
      "\n",
      "[3900 rows x 18 columns]>\n"
     ]
    }
   ],
   "source": [
    "#checking for null values\n",
    "print(df.isnull().sum)"
   ]
  },
  {
   "cell_type": "code",
   "execution_count": 25,
   "id": "6fd4902f",
   "metadata": {},
   "outputs": [],
   "source": [
    "#Renaming the columns to elimante the spaces in between.\n",
    "df.rename(columns={'Item Purchased': 'Item_Purchased'}, inplace=True)\n",
    "df.rename(columns={'Purchase Amount (USD)': 'Purchase_Amount_USD'}, inplace=True)\n",
    "df.rename(columns={'Review Rating': 'Review_Rating'}, inplace=True)\n",
    "df.rename(columns={'Previous Purchases': 'Previous_Purchases'}, inplace=True)"
   ]
  },
  {
   "cell_type": "code",
   "execution_count": 26,
   "id": "aeaf3042",
   "metadata": {
    "collapsed": true
   },
   "outputs": [
    {
     "name": "stdout",
     "output_type": "stream",
     "text": [
      "0       False\n",
      "1       False\n",
      "2       False\n",
      "3       False\n",
      "4       False\n",
      "        ...  \n",
      "3895    False\n",
      "3896    False\n",
      "3897    False\n",
      "3898    False\n",
      "3899    False\n",
      "Name: Category, Length: 3900, dtype: bool\n"
     ]
    }
   ],
   "source": [
    "print(pd.isnull(df[\"Category\"]))"
   ]
  },
  {
   "cell_type": "code",
   "execution_count": 27,
   "id": "c037d431",
   "metadata": {},
   "outputs": [],
   "source": [
    "#Here I  define my features (x) and my target (y).\n",
    "X = df.loc[:, ['Age', 'Gender', 'Location', 'Payment_Method', 'Frequency_of_Purchases']]\n",
    "y = df.loc[:, 'Subscription_Status']"
   ]
  },
  {
   "cell_type": "code",
   "execution_count": 28,
   "id": "6b512095",
   "metadata": {
    "collapsed": true
   },
   "outputs": [
    {
     "name": "stdout",
     "output_type": "stream",
     "text": [
      "Age                       0\n",
      "Gender                    0\n",
      "Location                  0\n",
      "Payment_Method            0\n",
      "Frequency_of_Purchases    0\n",
      "dtype: int64\n"
     ]
    }
   ],
   "source": [
    "print(X.isnull().sum())"
   ]
  },
  {
   "cell_type": "code",
   "execution_count": 29,
   "id": "75c0201b",
   "metadata": {},
   "outputs": [],
   "source": [
    "#Splitting the dataset into Train and test sets\n",
    "from sklearn.model_selection import train_test_split\n",
    "X_train, X_test, y_train, y_test = train_test_split(X, y, test_size=0.2, random_state=42)"
   ]
  },
  {
   "cell_type": "code",
   "execution_count": 30,
   "id": "989c35ec",
   "metadata": {},
   "outputs": [],
   "source": [
    "#Importing more libraries and scaling the features for a better performance of the model\n",
    "from sklearn.preprocessing import StandardScaler\n",
    "from sklearn.neighbors import KNeighborsClassifier\n",
    "scaler = StandardScaler()\n",
    "X_train = scaler.fit_transform(X_train)\n",
    "X_test = scaler.transform(X_test)"
   ]
  },
  {
   "cell_type": "code",
   "execution_count": 31,
   "id": "ec07aa26",
   "metadata": {
    "collapsed": true
   },
   "outputs": [
    {
     "data": {
      "text/html": [
       "<style>#sk-container-id-1 {color: black;}#sk-container-id-1 pre{padding: 0;}#sk-container-id-1 div.sk-toggleable {background-color: white;}#sk-container-id-1 label.sk-toggleable__label {cursor: pointer;display: block;width: 100%;margin-bottom: 0;padding: 0.3em;box-sizing: border-box;text-align: center;}#sk-container-id-1 label.sk-toggleable__label-arrow:before {content: \"▸\";float: left;margin-right: 0.25em;color: #696969;}#sk-container-id-1 label.sk-toggleable__label-arrow:hover:before {color: black;}#sk-container-id-1 div.sk-estimator:hover label.sk-toggleable__label-arrow:before {color: black;}#sk-container-id-1 div.sk-toggleable__content {max-height: 0;max-width: 0;overflow: hidden;text-align: left;background-color: #f0f8ff;}#sk-container-id-1 div.sk-toggleable__content pre {margin: 0.2em;color: black;border-radius: 0.25em;background-color: #f0f8ff;}#sk-container-id-1 input.sk-toggleable__control:checked~div.sk-toggleable__content {max-height: 200px;max-width: 100%;overflow: auto;}#sk-container-id-1 input.sk-toggleable__control:checked~label.sk-toggleable__label-arrow:before {content: \"▾\";}#sk-container-id-1 div.sk-estimator input.sk-toggleable__control:checked~label.sk-toggleable__label {background-color: #d4ebff;}#sk-container-id-1 div.sk-label input.sk-toggleable__control:checked~label.sk-toggleable__label {background-color: #d4ebff;}#sk-container-id-1 input.sk-hidden--visually {border: 0;clip: rect(1px 1px 1px 1px);clip: rect(1px, 1px, 1px, 1px);height: 1px;margin: -1px;overflow: hidden;padding: 0;position: absolute;width: 1px;}#sk-container-id-1 div.sk-estimator {font-family: monospace;background-color: #f0f8ff;border: 1px dotted black;border-radius: 0.25em;box-sizing: border-box;margin-bottom: 0.5em;}#sk-container-id-1 div.sk-estimator:hover {background-color: #d4ebff;}#sk-container-id-1 div.sk-parallel-item::after {content: \"\";width: 100%;border-bottom: 1px solid gray;flex-grow: 1;}#sk-container-id-1 div.sk-label:hover label.sk-toggleable__label {background-color: #d4ebff;}#sk-container-id-1 div.sk-serial::before {content: \"\";position: absolute;border-left: 1px solid gray;box-sizing: border-box;top: 0;bottom: 0;left: 50%;z-index: 0;}#sk-container-id-1 div.sk-serial {display: flex;flex-direction: column;align-items: center;background-color: white;padding-right: 0.2em;padding-left: 0.2em;position: relative;}#sk-container-id-1 div.sk-item {position: relative;z-index: 1;}#sk-container-id-1 div.sk-parallel {display: flex;align-items: stretch;justify-content: center;background-color: white;position: relative;}#sk-container-id-1 div.sk-item::before, #sk-container-id-1 div.sk-parallel-item::before {content: \"\";position: absolute;border-left: 1px solid gray;box-sizing: border-box;top: 0;bottom: 0;left: 50%;z-index: -1;}#sk-container-id-1 div.sk-parallel-item {display: flex;flex-direction: column;z-index: 1;position: relative;background-color: white;}#sk-container-id-1 div.sk-parallel-item:first-child::after {align-self: flex-end;width: 50%;}#sk-container-id-1 div.sk-parallel-item:last-child::after {align-self: flex-start;width: 50%;}#sk-container-id-1 div.sk-parallel-item:only-child::after {width: 0;}#sk-container-id-1 div.sk-dashed-wrapped {border: 1px dashed gray;margin: 0 0.4em 0.5em 0.4em;box-sizing: border-box;padding-bottom: 0.4em;background-color: white;}#sk-container-id-1 div.sk-label label {font-family: monospace;font-weight: bold;display: inline-block;line-height: 1.2em;}#sk-container-id-1 div.sk-label-container {text-align: center;}#sk-container-id-1 div.sk-container {/* jupyter's `normalize.less` sets `[hidden] { display: none; }` but bootstrap.min.css set `[hidden] { display: none !important; }` so we also need the `!important` here to be able to override the default hidden behavior on the sphinx rendered scikit-learn.org. See: https://github.com/scikit-learn/scikit-learn/issues/21755 */display: inline-block !important;position: relative;}#sk-container-id-1 div.sk-text-repr-fallback {display: none;}</style><div id=\"sk-container-id-1\" class=\"sk-top-container\"><div class=\"sk-text-repr-fallback\"><pre>KNeighborsClassifier()</pre><b>In a Jupyter environment, please rerun this cell to show the HTML representation or trust the notebook. <br />On GitHub, the HTML representation is unable to render, please try loading this page with nbviewer.org.</b></div><div class=\"sk-container\" hidden><div class=\"sk-item\"><div class=\"sk-estimator sk-toggleable\"><input class=\"sk-toggleable__control sk-hidden--visually\" id=\"sk-estimator-id-1\" type=\"checkbox\" checked><label for=\"sk-estimator-id-1\" class=\"sk-toggleable__label sk-toggleable__label-arrow\">KNeighborsClassifier</label><div class=\"sk-toggleable__content\"><pre>KNeighborsClassifier()</pre></div></div></div></div></div>"
      ],
      "text/plain": [
       "KNeighborsClassifier()"
      ]
     },
     "execution_count": 31,
     "metadata": {},
     "output_type": "execute_result"
    }
   ],
   "source": [
    "#I trained the model\n",
    "knn = KNeighborsClassifier(n_neighbors=5)  \n",
    "knn.fit(X_train, y_train)"
   ]
  },
  {
   "cell_type": "code",
   "execution_count": 32,
   "id": "d1162170",
   "metadata": {},
   "outputs": [],
   "source": [
    "#Here I use the trained model to predict the test data\n",
    "y_pred = knn.predict(X_test)"
   ]
  },
  {
   "cell_type": "code",
   "execution_count": 33,
   "id": "40c24354",
   "metadata": {},
   "outputs": [],
   "source": [
    "#I proceeded to import the libraries required for the evaluation of the model\n",
    "from sklearn import metrics\n",
    "import matplotlib.pyplot as plt\n",
    "\n",
    "confusion_matrix = metrics.confusion_matrix(y_test, y_pred)\n"
   ]
  },
  {
   "cell_type": "code",
   "execution_count": 34,
   "id": "1df3955a",
   "metadata": {
    "collapsed": true
   },
   "outputs": [
    {
     "name": "stdout",
     "output_type": "stream",
     "text": [
      "[[458 100]\n",
      " [149  73]]\n"
     ]
    }
   ],
   "source": [
    "print(confusion_matrix)"
   ]
  },
  {
   "cell_type": "code",
   "execution_count": 35,
   "id": "832ac924",
   "metadata": {},
   "outputs": [],
   "source": [
    "cm_display = metrics.ConfusionMatrixDisplay(confusion_matrix = confusion_matrix, display_labels = [0, 1])"
   ]
  },
  {
   "cell_type": "code",
   "execution_count": 36,
   "id": "4ac9a68c",
   "metadata": {
    "collapsed": true
   },
   "outputs": [
    {
     "data": {
      "image/png": "[encoded data removed]",
      "text/plain": [
       "<Figure size 640x480 with 2 Axes>"
      ]
     },
     "metadata": {},
     "output_type": "display_data"
    }
   ],
   "source": [
    "import matplotlib.pyplot as plt\n",
    "cm_display.plot()\n",
    "plt.show()"
   ]
  },
  {
   "cell_type": "code",
   "execution_count": 37,
   "id": "d81f0f4b",
   "metadata": {
    "collapsed": true
   },
   "outputs": [
    {
     "name": "stdout",
     "output_type": "stream",
     "text": [
      "0.6807692307692308\n"
     ]
    }
   ],
   "source": [
    "Accuracy = metrics.accuracy_score(y_test, y_pred)\n",
    "print(Accuracy)"
   ]
  },
  {
   "cell_type": "code",
   "execution_count": 38,
   "id": "b317cb16",
   "metadata": {
    "collapsed": true
   },
   "outputs": [
    {
     "name": "stdout",
     "output_type": "stream",
     "text": [
      "0.42196531791907516\n"
     ]
    }
   ],
   "source": [
    "Precision = metrics.precision_score(y_test, y_pred)\n",
    "print(Precision)"
   ]
  },
  {
   "cell_type": "code",
   "execution_count": 39,
   "id": "b027267a",
   "metadata": {
    "collapsed": true
   },
   "outputs": [
    {
     "name": "stdout",
     "output_type": "stream",
     "text": [
      "0.32882882882882886\n"
     ]
    }
   ],
   "source": [
    "Sensitivity_recall = metrics.recall_score(y_test, y_pred)\n",
    "print(Sensitivity_recall)"
   ]
  },
  {
   "cell_type": "code",
   "execution_count": 40,
   "id": "90cded4b",
   "metadata": {
    "collapsed": true
   },
   "outputs": [
    {
     "name": "stdout",
     "output_type": "stream",
     "text": [
      "0.8207885304659498\n"
     ]
    }
   ],
   "source": [
    "Specificity = metrics.recall_score(y_test, y_pred, pos_label=0)\n",
    "print(Specificity)"
   ]
  },
  {
   "cell_type": "code",
   "execution_count": 41,
   "id": "a2a61e8d",
   "metadata": {
    "collapsed": true
   },
   "outputs": [
    {
     "name": "stdout",
     "output_type": "stream",
     "text": [
      "0.36962025316455693\n"
     ]
    }
   ],
   "source": [
    "F1_score = metrics.f1_score(y_test, y_pred)\n",
    "print(F1_score)"
   ]
  },
  {
   "cell_type": "code",
   "execution_count": 42,
   "id": "e78306bd",
   "metadata": {
    "collapsed": true
   },
   "outputs": [
    {
     "name": "stdout",
     "output_type": "stream",
     "text": [
      "{'Accuracy': 0.6807692307692308, 'Precision': 0.42196531791907516, 'Sensitivity_recall': 0.32882882882882886, 'Specificity': 0.8207885304659498, 'F1_score': 0.36962025316455693}\n"
     ]
    }
   ],
   "source": [
    "print({\"Accuracy\":Accuracy,\"Precision\":Precision,\"Sensitivity_recall\":Sensitivity_recall,\"Specificity\":Specificity,\"F1_score\":F1_score})"
   ]
  },
  {
   "cell_type": "code",
   "execution_count": 43,
   "id": "eb43a0ca",
   "metadata": {},
   "outputs": [],
   "source": [
    "#Trying the Decision Tree Model"
   ]
  },
  {
   "cell_type": "code",
   "execution_count": 44,
   "id": "36aefb63",
   "metadata": {},
   "outputs": [],
   "source": [
    "from sklearn.tree import DecisionTreeClassifier"
   ]
  },
  {
   "cell_type": "code",
   "execution_count": 45,
   "id": "a2e7f33e",
   "metadata": {
    "collapsed": true
   },
   "outputs": [
    {
     "data": {
      "text/html": [
       "<style>#sk-container-id-2 {color: black;}#sk-container-id-2 pre{padding: 0;}#sk-container-id-2 div.sk-toggleable {background-color: white;}#sk-container-id-2 label.sk-toggleable__label {cursor: pointer;display: block;width: 100%;margin-bottom: 0;padding: 0.3em;box-sizing: border-box;text-align: center;}#sk-container-id-2 label.sk-toggleable__label-arrow:before {content: \"▸\";float: left;margin-right: 0.25em;color: #696969;}#sk-container-id-2 label.sk-toggleable__label-arrow:hover:before {color: black;}#sk-container-id-2 div.sk-estimator:hover label.sk-toggleable__label-arrow:before {color: black;}#sk-container-id-2 div.sk-toggleable__content {max-height: 0;max-width: 0;overflow: hidden;text-align: left;background-color: #f0f8ff;}#sk-container-id-2 div.sk-toggleable__content pre {margin: 0.2em;color: black;border-radius: 0.25em;background-color: #f0f8ff;}#sk-container-id-2 input.sk-toggleable__control:checked~div.sk-toggleable__content {max-height: 200px;max-width: 100%;overflow: auto;}#sk-container-id-2 input.sk-toggleable__control:checked~label.sk-toggleable__label-arrow:before {content: \"▾\";}#sk-container-id-2 div.sk-estimator input.sk-toggleable__control:checked~label.sk-toggleable__label {background-color: #d4ebff;}#sk-container-id-2 div.sk-label input.sk-toggleable__control:checked~label.sk-toggleable__label {background-color: #d4ebff;}#sk-container-id-2 input.sk-hidden--visually {border: 0;clip: rect(1px 1px 1px 1px);clip: rect(1px, 1px, 1px, 1px);height: 1px;margin: -1px;overflow: hidden;padding: 0;position: absolute;width: 1px;}#sk-container-id-2 div.sk-estimator {font-family: monospace;background-color: #f0f8ff;border: 1px dotted black;border-radius: 0.25em;box-sizing: border-box;margin-bottom: 0.5em;}#sk-container-id-2 div.sk-estimator:hover {background-color: #d4ebff;}#sk-container-id-2 div.sk-parallel-item::after {content: \"\";width: 100%;border-bottom: 1px solid gray;flex-grow: 1;}#sk-container-id-2 div.sk-label:hover label.sk-toggleable__label {background-color: #d4ebff;}#sk-container-id-2 div.sk-serial::before {content: \"\";position: absolute;border-left: 1px solid gray;box-sizing: border-box;top: 0;bottom: 0;left: 50%;z-index: 0;}#sk-container-id-2 div.sk-serial {display: flex;flex-direction: column;align-items: center;background-color: white;padding-right: 0.2em;padding-left: 0.2em;position: relative;}#sk-container-id-2 div.sk-item {position: relative;z-index: 1;}#sk-container-id-2 div.sk-parallel {display: flex;align-items: stretch;justify-content: center;background-color: white;position: relative;}#sk-container-id-2 div.sk-item::before, #sk-container-id-2 div.sk-parallel-item::before {content: \"\";position: absolute;border-left: 1px solid gray;box-sizing: border-box;top: 0;bottom: 0;left: 50%;z-index: -1;}#sk-container-id-2 div.sk-parallel-item {display: flex;flex-direction: column;z-index: 1;position: relative;background-color: white;}#sk-container-id-2 div.sk-parallel-item:first-child::after {align-self: flex-end;width: 50%;}#sk-container-id-2 div.sk-parallel-item:last-child::after {align-self: flex-start;width: 50%;}#sk-container-id-2 div.sk-parallel-item:only-child::after {width: 0;}#sk-container-id-2 div.sk-dashed-wrapped {border: 1px dashed gray;margin: 0 0.4em 0.5em 0.4em;box-sizing: border-box;padding-bottom: 0.4em;background-color: white;}#sk-container-id-2 div.sk-label label {font-family: monospace;font-weight: bold;display: inline-block;line-height: 1.2em;}#sk-container-id-2 div.sk-label-container {text-align: center;}#sk-container-id-2 div.sk-container {/* jupyter's `normalize.less` sets `[hidden] { display: none; }` but bootstrap.min.css set `[hidden] { display: none !important; }` so we also need the `!important` here to be able to override the default hidden behavior on the sphinx rendered scikit-learn.org. See: https://github.com/scikit-learn/scikit-learn/issues/21755 */display: inline-block !important;position: relative;}#sk-container-id-2 div.sk-text-repr-fallback {display: none;}</style><div id=\"sk-container-id-2\" class=\"sk-top-container\"><div class=\"sk-text-repr-fallback\"><pre>DecisionTreeClassifier(random_state=42)</pre><b>In a Jupyter environment, please rerun this cell to show the HTML representation or trust the notebook. <br />On GitHub, the HTML representation is unable to render, please try loading this page with nbviewer.org.</b></div><div class=\"sk-container\" hidden><div class=\"sk-item\"><div class=\"sk-estimator sk-toggleable\"><input class=\"sk-toggleable__control sk-hidden--visually\" id=\"sk-estimator-id-2\" type=\"checkbox\" checked><label for=\"sk-estimator-id-2\" class=\"sk-toggleable__label sk-toggleable__label-arrow\">DecisionTreeClassifier</label><div class=\"sk-toggleable__content\"><pre>DecisionTreeClassifier(random_state=42)</pre></div></div></div></div></div>"
      ],
      "text/plain": [
       "DecisionTreeClassifier(random_state=42)"
      ]
     },
     "execution_count": 45,
     "metadata": {},
     "output_type": "execute_result"
    }
   ],
   "source": [
    "X = df.loc[:, ['Age', 'Gender', 'Location', 'Payment_Method', 'Frequency_of_Purchases']]\n",
    "y = df.loc[:, 'Subscription_Status']\n",
    "\n",
    "X_train, X_test, y_train, y_test = train_test_split(X, y, test_size=0.2, random_state=42)\n",
    "\n",
    "dt = DecisionTreeClassifier(random_state=42)\n",
    "dt.fit(X_train, y_train)"
   ]
  },
  {
   "cell_type": "code",
   "execution_count": 46,
   "id": "53c99e3d",
   "metadata": {},
   "outputs": [],
   "source": [
    "y_pred = dt.predict(X_test)"
   ]
  },
  {
   "cell_type": "code",
   "execution_count": 47,
   "id": "986d9c94",
   "metadata": {},
   "outputs": [
    {
     "name": "stdout",
     "output_type": "stream",
     "text": [
      "[[414 144]\n",
      " [129  93]]\n"
     ]
    }
   ],
   "source": [
    "confusion_matrix = metrics.confusion_matrix(y_test, y_pred)\n",
    "print(confusion_matrix)"
   ]
  },
  {
   "cell_type": "code",
   "execution_count": 48,
   "id": "93ea1fc6",
   "metadata": {},
   "outputs": [],
   "source": [
    "cm_display = metrics.ConfusionMatrixDisplay(confusion_matrix = confusion_matrix, display_labels = [0, 1])"
   ]
  },
  {
   "cell_type": "code",
   "execution_count": 49,
   "id": "6c649d2d",
   "metadata": {
    "collapsed": true
   },
   "outputs": [
    {
     "data": {
      "image/png": "[encoded data removed]",
      "text/plain": [
       "<Figure size 640x480 with 2 Axes>"
      ]
     },
     "metadata": {},
     "output_type": "display_data"
    }
   ],
   "source": [
    "import matplotlib.pyplot as plt\n",
    "cm_display.plot()\n",
    "plt.show()"
   ]
  },
  {
   "cell_type": "code",
   "execution_count": 50,
   "id": "e7b65cf7",
   "metadata": {
    "collapsed": true
   },
   "outputs": [
    {
     "name": "stdout",
     "output_type": "stream",
     "text": [
      "0.65\n"
     ]
    }
   ],
   "source": [
    "Accuracy = metrics.accuracy_score(y_test, y_pred)\n",
    "print(Accuracy)"
   ]
  },
  {
   "cell_type": "code",
   "execution_count": 51,
   "id": "9df22757",
   "metadata": {
    "collapsed": true
   },
   "outputs": [
    {
     "name": "stdout",
     "output_type": "stream",
     "text": [
      "0.3924050632911392\n"
     ]
    }
   ],
   "source": [
    "Precision = metrics.precision_score(y_test, y_pred)\n",
    "print(Precision)"
   ]
  },
  {
   "cell_type": "code",
   "execution_count": 52,
   "id": "54740415",
   "metadata": {
    "collapsed": true
   },
   "outputs": [
    {
     "name": "stdout",
     "output_type": "stream",
     "text": [
      "0.4189189189189189\n"
     ]
    }
   ],
   "source": [
    "Sensitivity_recall = metrics.recall_score(y_test, y_pred)\n",
    "print(Sensitivity_recall)"
   ]
  },
  {
   "cell_type": "code",
   "execution_count": 53,
   "id": "d3ccd766",
   "metadata": {
    "collapsed": true
   },
   "outputs": [
    {
     "name": "stdout",
     "output_type": "stream",
     "text": [
      "0.7419354838709677\n"
     ]
    }
   ],
   "source": [
    "Specificity = metrics.recall_score(y_test, y_pred, pos_label=0)\n",
    "print(Specificity)"
   ]
  },
  {
   "cell_type": "code",
   "execution_count": 54,
   "id": "42216ecf",
   "metadata": {
    "collapsed": true
   },
   "outputs": [
    {
     "name": "stdout",
     "output_type": "stream",
     "text": [
      "0.40522875816993464\n"
     ]
    }
   ],
   "source": [
    "F1_score = metrics.f1_score(y_test, y_pred)\n",
    "print(F1_score)"
   ]
  },
  {
   "cell_type": "code",
   "execution_count": null,
   "id": "f484be9b",
   "metadata": {},
   "outputs": [],
   "source": []
  },
  {
   "cell_type": "code",
   "execution_count": null,
   "id": "1914c32e",
   "metadata": {},
   "outputs": [],
   "source": [
    "        "
   ]
  },
  {
   "cell_type": "code",
   "execution_count": null,
   "id": "d06d0beb",
   "metadata": {},
   "outputs": [],
   "source": []
  },
  {
   "cell_type": "code",
   "execution_count": null,
   "id": "7773ec74",
   "metadata": {},
   "outputs": [],
   "source": [
    "\n"
   ]
  },
  {
   "cell_type": "code",
   "execution_count": null,
   "id": "b5571668",
   "metadata": {},
   "outputs": [],
   "source": []
  },
  {
   "cell_type": "code",
   "execution_count": null,
   "id": "6aaca727",
   "metadata": {},
   "outputs": [],
   "source": []
  },
  {
   "cell_type": "code",
   "execution_count": null,
   "id": "0c53e69a",
   "metadata": {},
   "outputs": [],
   "source": []
  },
  {
   "cell_type": "code",
   "execution_count": null,
   "id": "ff09a900",
   "metadata": {},
   "outputs": [],
   "source": []
  },
  {
   "cell_type": "code",
   "execution_count": null,
   "id": "19125265",
   "metadata": {},
   "outputs": [],
   "source": []
  },
  {
   "cell_type": "code",
   "execution_count": null,
   "id": "22d5cfbe",
   "metadata": {},
   "outputs": [],
   "source": []
  },
  {
   "cell_type": "code",
   "execution_count": null,
   "id": "878e6af7",
   "metadata": {},
   "outputs": [],
   "source": []
  },
  {
   "cell_type": "code",
   "execution_count": null,
   "id": "f575f226",
   "metadata": {},
   "outputs": [],
   "source": []
  }
 ],
 "metadata": {
  "kernelspec": {
   "display_name": "Python 3 (ipykernel)",
   "language": "python",
   "name": "python3"
  },
  "language_info": {
   "codemirror_mode": {
    "name": "ipython",
    "version": 3
   },
   "file_extension": ".py",
   "mimetype": "text/x-python",
   "name": "python",
   "nbconvert_exporter": "python",
   "pygments_lexer": "ipython3",
   "version": "3.11.5"
  }
 },
 "nbformat": 4,
 "nbformat_minor": 5
}
